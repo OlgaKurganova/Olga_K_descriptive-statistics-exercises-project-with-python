{
    "cells": [
        {
            "cell_type": "markdown",
            "id": "ac622319",
            "metadata": {},
            "source": [
                "# Descriptive statistics problems"
            ]
        },
        {
            "cell_type": "markdown",
            "id": "aa8993e4",
            "metadata": {},
            "source": [
                "### Exercise 1"
            ]
        },
        {
            "cell_type": "markdown",
            "id": "5e0ab0d5",
            "metadata": {},
            "source": [
                "We will use Numpy to obtain information to describe statistically.\n",
                "\n",
                "- Generate an array of 100 elements following a normal distribution.\n",
                "- Generate an array of 100 elements following a chi-square distribution with 3 degrees of freedom.\n",
                "- Calculate the main metrics and statistical measures that best describe the two vectors."
            ]
        },
        {
            "cell_type": "code",
            "execution_count": 1,
            "id": "34720ab6",
            "metadata": {},
            "outputs": [
                {
                    "name": "stdout",
                    "output_type": "stream",
                    "text": [
                        "[ 0.75438162  0.11404047  0.74129657  2.60396351  0.33466025  1.58348756\n",
                        "  3.13908641  5.37187987  3.90014317  0.35085576  6.00847563  1.08427437\n",
                        "  1.49486411  2.38370023  2.04026316  2.91997705  2.36609838  0.3290599\n",
                        "  3.85491473  1.43321042  0.37406168  3.41917369  2.29378014  8.07693295\n",
                        "  4.89509602  2.24634739  0.64553432  4.13120608  1.81613205  1.92970385\n",
                        "  0.21442787  1.29934116  0.76164126  1.02331261  1.69543836  2.64112768\n",
                        "  3.41028766  2.67651819  1.06829654  1.51315671  6.32475536  5.49936435\n",
                        "  1.03352358  2.47118652  3.18192135  4.92996364  1.04088188  1.44175075\n",
                        "  1.1755975   5.77852328  1.86949359  3.07626017  0.81919178  2.78576609\n",
                        "  6.59355786  1.05183261  0.21906086  1.72915786  2.50230954  1.87023196\n",
                        "  1.99549653  1.32376611  6.92183844  5.64482229  0.81270081  2.28713425\n",
                        "  1.61467568  0.60563759  5.42384537 10.12463186  3.90195875  0.39049527\n",
                        "  2.91880166  0.58988132  6.76489998  0.61468969 10.43249166  4.46110072\n",
                        "  5.06661557  3.29410095  1.12217267  2.49613093  6.06200371 11.11260393\n",
                        "  4.58577062  4.96154285  3.25845988  5.63110439  0.96298658  1.98100808\n",
                        "  1.77375452  2.05228505  4.61869636  8.81950727  2.42279831  5.29811039\n",
                        "  0.20720728  0.02008453  2.04527158  4.45227746]\n",
                        "2.9340784079835927\n",
                        "5.709967919952984\n",
                        "2.389553916519354\n"
                    ]
                }
            ],
            "source": [
                "# TODO\n",
                "import pandas as pd\n",
                "import numpy as np\n",
                "\n",
                "import scipy.stats as stats\n",
                "from scipy.stats import skew, kurtosis\n",
                "\n",
                "array_n = np.random.normal(0,1,100)\n",
                "\n",
                "x=np.mean(array_n)\n",
                "x1=np.median(array_n)\n",
                "x2=stats.mode(array_n)\n",
                "xrange_n=max(array_n)-min(array_n)\n",
                "var1=np.var(array_n)\n",
                "var_std_n=np.std(array_n)\n",
                "skew_array_n=skew(array_n)\n",
                "\n",
                "\n",
                "\n",
                "chi_square=np.random.chisquare(3,100)\n",
                "print(chi_square)\n",
                "print(np.mean(chi_square))\n",
                "y=stats.mode(chi_square)\n",
                "y1=max(chi_square)-min(chi_square)\n",
                "print(str(np.var(chi_square)))\n",
                "print(np.std(chi_square))\n",
                "skew_chi=skew(chi_square)\n",
                "#Datos a comprobar\n",
                "datos2 = chi_square\n",
                "\n",
                "# Media (promedio) de los datos\n",
                "#media_datos2 = np.mean(datos2)\n",
                "\n",
                "#Varianza de los datos\n",
                "varianza_datos2 = np.var(datos2)\n",
                "\n",
                "# Desviación estándar de los datos\n",
                "#desviacion_std_datos2 = np.std(datos2)\n",
                "\n",
                "# Rango de los datos\n",
                "#rango_datos2 = np.ptp(datos2)\n",
                "\n",
                "# Percentil 25\n",
                "#percentil_25_datos2 = np.percentile(datos2, 25)\n",
                "\n",
                "# Mediana de los datos\n",
                "#mediana_datos2 = np.median(datos2)\n",
                "\n",
                "#Percentil 75\n",
                "#percentil_75_datos2 = np.percentile(datos2, 75)\n",
                "\n",
                "##print(\"Media datos2:\", media_datos2)\n",
                "#print(\"Varianza datos2:\", varianza_datos2)\n",
                "#print(\"Desviación estándar datos2:\", desviacion_std_datos2)\n",
                "#print(\"Rango datos2:\", rango_datos2)\n",
                "#print(\"Percentil 25 datos2:\", percentil_25_datos2)\n",
                "#print(\"Mediana datos2:\", mediana_datos2)\n",
                "#print(\"Percentil 75 datos2:\", percentil_75_datos2)\n"
            ]
        },
        {
            "cell_type": "markdown",
            "id": "46c70c3d",
            "metadata": {},
            "source": [
                "### Exercise 2\n",
                "\n",
                "Write a Python program to calculate the standard deviation of the following data:\n",
                "\n",
                "```py\n",
                "data = [4, 2, 5, 8, 6]\n",
                "```"
            ]
        },
        {
            "cell_type": "code",
            "execution_count": 1,
            "id": "d590308e",
            "metadata": {},
            "outputs": [
                {
                    "name": "stdout",
                    "output_type": "stream",
                    "text": [
                        "2.23606797749979\n"
                    ]
                }
            ],
            "source": [
                "# TODO\n",
                "import numpy as np\n",
                "import scipy.stats as stats\n",
                "\n",
                "import math\n",
                "\n",
                "\n",
                "data = [4, 2, 5, 8, 6]\n",
                "def standard(data):\n",
                "    n = len(data)\n",
                "    if n < 2 :\n",
                "        return None\n",
                "    media = sum(data) / n\n",
                "    variance = sum((x - media)**2 for x in data) / (n - 1)\n",
                "    std_desviacion = math.sqrt(variance)\n",
                "    return std_desviacion\n",
                "print(standard(data))"
            ]
        }
    ],
    "metadata": {
        "interpreter": {
            "hash": "9248718ffe6ce6938b217e69dbcc175ea21f4c6b28a317e96c05334edae734bb"
        },
        "kernelspec": {
            "display_name": "Python 3.9.12 ('ML-BOOTCAMP')",
            "language": "python",
            "name": "python3"
        },
        "language_info": {
            "codemirror_mode": {
                "name": "ipython",
                "version": 3
            },
            "file_extension": ".py",
            "mimetype": "text/x-python",
            "name": "python",
            "nbconvert_exporter": "python",
            "pygments_lexer": "ipython3",
            "version": "3.11.4"
        }
    },
    "nbformat": 4,
    "nbformat_minor": 5
}
