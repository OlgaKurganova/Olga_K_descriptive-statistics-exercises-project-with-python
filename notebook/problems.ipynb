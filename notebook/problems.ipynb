{
    "cells": [
        {
            "cell_type": "markdown",
            "id": "ac622319",
            "metadata": {},
            "source": [
                "# Descriptive statistics problems"
            ]
        },
        {
            "cell_type": "markdown",
            "id": "aa8993e4",
            "metadata": {},
            "source": [
                "### Exercise 1"
            ]
        },
        {
            "cell_type": "markdown",
            "id": "5e0ab0d5",
            "metadata": {},
            "source": [
                "We will use Numpy to obtain information to describe statistically.\n",
                "\n",
                "- Generate an array of 100 elements following a normal distribution.\n",
                "- Generate an array of 100 elements following a chi-square distribution with 3 degrees of freedom.\n",
                "- Calculate the main metrics and statistical measures that best describe the two vectors."
            ]
        },
        {
            "cell_type": "code",
            "execution_count": 2,
            "id": "34720ab6",
            "metadata": {},
            "outputs": [
                {
                    "ename": "NameError",
                    "evalue": "name 'kurtosis' is not defined",
                    "output_type": "error",
                    "traceback": [
                        "\u001b[0;31m---------------------------------------------------------------------------\u001b[0m",
                        "\u001b[0;31mNameError\u001b[0m                                 Traceback (most recent call last)",
                        "Cell \u001b[0;32mIn[2], line 18\u001b[0m\n\u001b[1;32m     15\u001b[0m var_std_n\u001b[38;5;241m=\u001b[39mstats\u001b[38;5;241m.\u001b[39mstdev(array_n)\n\u001b[1;32m     16\u001b[0m skew_array_n\u001b[38;5;241m=\u001b[39mskew(array_n)\n\u001b[0;32m---> 18\u001b[0m kurt_normal \u001b[38;5;241m=\u001b[39m \u001b[43mkurtosis\u001b[49m(array_n)\n\u001b[1;32m     19\u001b[0m \u001b[38;5;28mprint\u001b[39m(kurt_normal)\n\u001b[1;32m     21\u001b[0m chi_square\u001b[38;5;241m=\u001b[39mnp\u001b[38;5;241m.\u001b[39mrandom\u001b[38;5;241m.\u001b[39mchisquare(\u001b[38;5;241m3\u001b[39m,\u001b[38;5;241m100\u001b[39m)\n",
                        "\u001b[0;31mNameError\u001b[0m: name 'kurtosis' is not defined"
                    ]
                }
            ],
            "source": [
                "# TODO\n",
                "import pandas as pd\n",
                "import numpy as np\n",
                "import scipy.stats as stats\n",
                "import statistics as stats\n",
                "from scipy.stats import skew\n",
                "\n",
                "array_n = np.random.normal(size=100)\n",
                "array_n\n",
                "x=stats.mean(array_n)\n",
                "x1=stats.median(array_n)\n",
                "x2=stats.mode(array_n)\n",
                "xrange_n=max(array_n)-min(array_n)\n",
                "var1=stats.variance(array_n)\n",
                "var_std_n=stats.stdev(array_n)\n",
                "skew_array_n=skew(array_n)\n",
                "\n",
                "kurt_normal = kurtosis(array_n)\n",
                "print(kurt_normal)\n",
                "\n",
                "chi_square=np.random.chisquare(3,100)\n",
                "chi_square\n",
                "print=(stats.mean(chi_square))\n",
                "print(stats.mode(chi_square))\n",
                "print(max(chi_square)-min(chi_square))\n",
                "print(stats.variance(chi_square))\n",
                "print(stats.stdev(chi_square))\n",
                "skew_chi=skew(chi_square)\n",
                "kurt_chi = kurtosis(chi_square)\n",
                "print(kurt_chi)"
            ]
        },
        {
            "cell_type": "markdown",
            "id": "46c70c3d",
            "metadata": {},
            "source": [
                "### Exercise 2\n",
                "\n",
                "Write a Python program to calculate the standard deviation of the following data:\n",
                "\n",
                "```py\n",
                "data = [4, 2, 5, 8, 6]\n",
                "```"
            ]
        },
        {
            "cell_type": "code",
            "execution_count": 15,
            "id": "d590308e",
            "metadata": {},
            "outputs": [
                {
                    "data": {
                        "text/plain": [
                            "<BarContainer object of 21 artists>"
                        ]
                    },
                    "execution_count": 15,
                    "metadata": {},
                    "output_type": "execute_result"
                },
                {
                    "data": {
                        "image/png": "[encoded data removed]",
                        "text/plain": [
                            "<Figure size 640x480 with 1 Axes>"
                        ]
                    },
                    "metadata": {},
                    "output_type": "display_data"
                }
            ],
            "source": [
                "# TODO\n",
                "import numpy as np\n",
                "import scipy.stats as stats\n",
                "import matplotlib.pyplot as plt\n",
                "import math\n",
                "import sys\n",
                "\n",
                "\n",
                "data = [4, 2, 5, 8, 6]\n",
                "np.mean(data)\n",
                "np.std(data)\n",
                "b= stats.binom(20, 0.5)\n",
                "b.mean()\n",
                "plt.bar(range(21), b.pmf(range(21)))"
            ]
        }
    ],
    "metadata": {
        "interpreter": {
            "hash": "9248718ffe6ce6938b217e69dbcc175ea21f4c6b28a317e96c05334edae734bb"
        },
        "kernelspec": {
            "display_name": "Python 3.9.12 ('ML-BOOTCAMP')",
            "language": "python",
            "name": "python3"
        },
        "language_info": {
            "codemirror_mode": {
                "name": "ipython",
                "version": 3
            },
            "file_extension": ".py",
            "mimetype": "text/x-python",
            "name": "python",
            "nbconvert_exporter": "python",
            "pygments_lexer": "ipython3",
            "version": "3.11.4"
        }
    },
    "nbformat": 4,
    "nbformat_minor": 5
}
